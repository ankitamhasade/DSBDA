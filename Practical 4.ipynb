{
 "cells": [
  {
   "cell_type": "code",
   "execution_count": 25,
   "id": "02eda23c",
   "metadata": {},
   "outputs": [
    {
     "name": "stderr",
     "output_type": "stream",
     "text": [
      "WARNING: Skipping scikit-learn as it is not installed.\n"
     ]
    },
    {
     "name": "stdout",
     "output_type": "stream",
     "text": [
      "Collecting scikit-learn==1.2.0\n",
      "  Downloading scikit_learn-1.2.0-cp311-cp311-win_amd64.whl.metadata (11 kB)\n",
      "Requirement already satisfied: numpy>=1.17.3 in c:\\users\\ghans\\appdata\\local\\programs\\python\\python311\\lib\\site-packages (from scikit-learn==1.2.0) (1.24.3)\n",
      "Requirement already satisfied: scipy>=1.3.2 in c:\\users\\ghans\\appdata\\local\\programs\\python\\python311\\lib\\site-packages (from scikit-learn==1.2.0) (1.10.1)\n",
      "Requirement already satisfied: joblib>=1.1.1 in c:\\users\\ghans\\appdata\\local\\programs\\python\\python311\\lib\\site-packages (from scikit-learn==1.2.0) (1.4.0)\n",
      "Collecting threadpoolctl>=2.0.0 (from scikit-learn==1.2.0)\n",
      "  Downloading threadpoolctl-3.5.0-py3-none-any.whl.metadata (13 kB)\n",
      "Downloading scikit_learn-1.2.0-cp311-cp311-win_amd64.whl (8.2 MB)\n",
      "   ---------------------------------------- 0.0/8.2 MB ? eta -:--:--\n",
      "   ---------------------------------------- 0.0/8.2 MB ? eta -:--:--\n",
      "   ---------------------------------------- 0.0/8.2 MB 393.8 kB/s eta 0:00:21\n",
      "   ---------------------------------------- 0.1/8.2 MB 375.8 kB/s eta 0:00:22\n",
      "    --------------------------------------- 0.1/8.2 MB 653.6 kB/s eta 0:00:13\n",
      "    --------------------------------------- 0.2/8.2 MB 794.9 kB/s eta 0:00:11\n",
      "   - -------------------------------------- 0.2/8.2 MB 846.9 kB/s eta 0:00:10\n",
      "   - -------------------------------------- 0.3/8.2 MB 1.0 MB/s eta 0:00:08\n",
      "   -- ------------------------------------- 0.5/8.2 MB 1.3 MB/s eta 0:00:06\n",
      "   --- ------------------------------------ 0.7/8.2 MB 1.7 MB/s eta 0:00:05\n",
      "   ---- ----------------------------------- 1.0/8.2 MB 2.1 MB/s eta 0:00:04\n",
      "   ----- ---------------------------------- 1.1/8.2 MB 2.2 MB/s eta 0:00:04\n",
      "   ------ --------------------------------- 1.3/8.2 MB 2.4 MB/s eta 0:00:03\n",
      "   ------- -------------------------------- 1.6/8.2 MB 2.7 MB/s eta 0:00:03\n",
      "   --------- ------------------------------ 1.9/8.2 MB 2.9 MB/s eta 0:00:03\n",
      "   ---------- ----------------------------- 2.2/8.2 MB 3.1 MB/s eta 0:00:02\n",
      "   ----------- ---------------------------- 2.4/8.2 MB 3.3 MB/s eta 0:00:02\n",
      "   ------------ --------------------------- 2.7/8.2 MB 3.4 MB/s eta 0:00:02\n",
      "   -------------- ------------------------- 2.9/8.2 MB 3.5 MB/s eta 0:00:02\n",
      "   --------------- ------------------------ 3.2/8.2 MB 3.6 MB/s eta 0:00:02\n",
      "   ---------------- ----------------------- 3.5/8.2 MB 3.7 MB/s eta 0:00:02\n",
      "   ----------------- ---------------------- 3.6/8.2 MB 3.7 MB/s eta 0:00:02\n",
      "   ------------------- -------------------- 3.9/8.2 MB 3.8 MB/s eta 0:00:02\n",
      "   -------------------- ------------------- 4.1/8.2 MB 3.9 MB/s eta 0:00:02\n",
      "   --------------------- ------------------ 4.4/8.2 MB 4.0 MB/s eta 0:00:01\n",
      "   ---------------------- ----------------- 4.7/8.2 MB 4.1 MB/s eta 0:00:01\n",
      "   ----------------------- ---------------- 4.9/8.2 MB 4.1 MB/s eta 0:00:01\n",
      "   ------------------------ --------------- 4.9/8.2 MB 4.0 MB/s eta 0:00:01\n",
      "   ------------------------ --------------- 4.9/8.2 MB 4.0 MB/s eta 0:00:01\n",
      "   ------------------------ --------------- 4.9/8.2 MB 4.0 MB/s eta 0:00:01\n",
      "   ------------------------ --------------- 4.9/8.2 MB 4.0 MB/s eta 0:00:01\n",
      "   ------------------------ --------------- 4.9/8.2 MB 4.0 MB/s eta 0:00:01\n",
      "   ------------------------- -------------- 5.2/8.2 MB 3.5 MB/s eta 0:00:01\n",
      "   --------------------------- ------------ 5.6/8.2 MB 3.7 MB/s eta 0:00:01\n",
      "   ---------------------------- ----------- 5.8/8.2 MB 3.7 MB/s eta 0:00:01\n",
      "   ----------------------------- ---------- 6.1/8.2 MB 3.7 MB/s eta 0:00:01\n",
      "   ------------------------------ --------- 6.3/8.2 MB 3.8 MB/s eta 0:00:01\n",
      "   -------------------------------- ------- 6.6/8.2 MB 3.9 MB/s eta 0:00:01\n",
      "   --------------------------------- ------ 6.9/8.2 MB 3.9 MB/s eta 0:00:01\n",
      "   ----------------------------------- ---- 7.2/8.2 MB 4.0 MB/s eta 0:00:01\n",
      "   ----------------------------------- ---- 7.4/8.2 MB 4.0 MB/s eta 0:00:01\n",
      "   ------------------------------------- -- 7.6/8.2 MB 4.0 MB/s eta 0:00:01\n",
      "   ---------------------------------------  8.0/8.2 MB 4.1 MB/s eta 0:00:01\n",
      "   ---------------------------------------  8.2/8.2 MB 4.1 MB/s eta 0:00:01\n",
      "   ---------------------------------------  8.2/8.2 MB 4.1 MB/s eta 0:00:01\n",
      "   ---------------------------------------- 8.2/8.2 MB 4.0 MB/s eta 0:00:00\n",
      "Downloading threadpoolctl-3.5.0-py3-none-any.whl (18 kB)\n",
      "Installing collected packages: threadpoolctl, scikit-learn\n",
      "Successfully installed scikit-learn-1.2.0 threadpoolctl-3.5.0\n",
      "Collecting scikit-learn==0.24.2\n",
      "  Downloading scikit-learn-0.24.2.tar.gz (7.5 MB)\n",
      "     ---------------------------------------- 0.0/7.5 MB ? eta -:--:--\n",
      "     ---------------------------------------- 0.0/7.5 MB ? eta -:--:--\n",
      "     ---------------------------------------- 0.0/7.5 MB ? eta -:--:--\n",
      "     ---------------------------------------- 0.0/7.5 MB ? eta -:--:--\n",
      "     ---------------------------------------- 0.0/7.5 MB ? eta -:--:--\n",
      "      --------------------------------------- 0.1/7.5 MB 547.6 kB/s eta 0:00:14\n",
      "      --------------------------------------- 0.1/7.5 MB 547.6 kB/s eta 0:00:14\n",
      "      --------------------------------------- 0.2/7.5 MB 518.9 kB/s eta 0:00:15\n",
      "      --------------------------------------- 0.2/7.5 MB 518.9 kB/s eta 0:00:15\n",
      "      --------------------------------------- 0.2/7.5 MB 518.9 kB/s eta 0:00:15\n",
      "      --------------------------------------- 0.2/7.5 MB 518.9 kB/s eta 0:00:15\n",
      "      --------------------------------------- 0.2/7.5 MB 327.7 kB/s eta 0:00:23\n",
      "     - -------------------------------------- 0.3/7.5 MB 506.4 kB/s eta 0:00:15\n",
      "     - -------------------------------------- 0.3/7.5 MB 549.2 kB/s eta 0:00:14\n",
      "     -- ------------------------------------- 0.4/7.5 MB 622.1 kB/s eta 0:00:12\n",
      "     -- ------------------------------------- 0.4/7.5 MB 595.2 kB/s eta 0:00:12\n",
      "     -- ------------------------------------- 0.5/7.5 MB 728.3 kB/s eta 0:00:10\n",
      "     --- ------------------------------------ 0.6/7.5 MB 816.5 kB/s eta 0:00:09\n",
      "     ---- ----------------------------------- 0.8/7.5 MB 933.2 kB/s eta 0:00:08\n",
      "     ---- ----------------------------------- 0.9/7.5 MB 1.0 MB/s eta 0:00:07\n",
      "     ----- ---------------------------------- 1.0/7.5 MB 1.1 MB/s eta 0:00:06\n",
      "     ----- ---------------------------------- 1.1/7.5 MB 1.2 MB/s eta 0:00:06\n",
      "     ------ --------------------------------- 1.3/7.5 MB 1.3 MB/s eta 0:00:05\n",
      "     ------- -------------------------------- 1.4/7.5 MB 1.4 MB/s eta 0:00:05\n",
      "     -------- ------------------------------- 1.6/7.5 MB 1.5 MB/s eta 0:00:05\n",
      "     --------- ------------------------------ 1.7/7.5 MB 1.5 MB/s eta 0:00:04\n",
      "     ---------- ----------------------------- 1.9/7.5 MB 1.6 MB/s eta 0:00:04\n",
      "     ---------- ----------------------------- 2.0/7.5 MB 1.6 MB/s eta 0:00:04\n",
      "     ----------- ---------------------------- 2.2/7.5 MB 1.7 MB/s eta 0:00:04\n",
      "     ------------ --------------------------- 2.3/7.5 MB 1.7 MB/s eta 0:00:04\n",
      "     ------------- -------------------------- 2.5/7.5 MB 1.8 MB/s eta 0:00:03\n",
      "     ------------- -------------------------- 2.6/7.5 MB 1.8 MB/s eta 0:00:03\n",
      "     -------------- ------------------------- 2.8/7.5 MB 1.9 MB/s eta 0:00:03\n",
      "     --------------- ------------------------ 2.9/7.5 MB 1.9 MB/s eta 0:00:03\n",
      "     ---------------- ----------------------- 3.1/7.5 MB 2.0 MB/s eta 0:00:03\n",
      "     ----------------- ---------------------- 3.3/7.5 MB 2.0 MB/s eta 0:00:03\n",
      "     ------------------ --------------------- 3.4/7.5 MB 2.1 MB/s eta 0:00:03\n",
      "     ------------------- -------------------- 3.7/7.5 MB 2.2 MB/s eta 0:00:02\n",
      "     ------------------- -------------------- 3.7/7.5 MB 2.1 MB/s eta 0:00:02\n",
      "     --------------------- ------------------ 4.0/7.5 MB 2.2 MB/s eta 0:00:02\n",
      "     ---------------------- ----------------- 4.2/7.5 MB 2.3 MB/s eta 0:00:02\n",
      "     ---------------------- ----------------- 4.3/7.5 MB 2.3 MB/s eta 0:00:02\n",
      "     ------------------------ --------------- 4.5/7.5 MB 2.4 MB/s eta 0:00:02\n",
      "     ------------------------- -------------- 4.7/7.5 MB 2.4 MB/s eta 0:00:02\n",
      "     ------------------------- -------------- 4.9/7.5 MB 2.4 MB/s eta 0:00:02\n",
      "     --------------------------- ------------ 5.1/7.5 MB 2.4 MB/s eta 0:00:02\n",
      "     --------------------------- ------------ 5.2/7.5 MB 2.4 MB/s eta 0:00:01\n",
      "     ---------------------------- ----------- 5.3/7.5 MB 2.4 MB/s eta 0:00:01\n",
      "     ----------------------------- ---------- 5.6/7.5 MB 2.5 MB/s eta 0:00:01\n",
      "     ----------------------------- ---------- 5.6/7.5 MB 2.5 MB/s eta 0:00:01\n",
      "     ------------------------------ --------- 5.8/7.5 MB 2.5 MB/s eta 0:00:01\n",
      "     -------------------------------- ------- 6.0/7.5 MB 2.6 MB/s eta 0:00:01\n",
      "     --------------------------------- ------ 6.3/7.5 MB 2.6 MB/s eta 0:00:01\n",
      "     ---------------------------------- ----- 6.5/7.5 MB 2.7 MB/s eta 0:00:01\n",
      "     ----------------------------------- ---- 6.7/7.5 MB 2.7 MB/s eta 0:00:01\n",
      "     ------------------------------------ --- 7.0/7.5 MB 2.7 MB/s eta 0:00:01\n",
      "     -------------------------------------- - 7.2/7.5 MB 2.8 MB/s eta 0:00:01\n",
      "     ---------------------------------------  7.5/7.5 MB 2.9 MB/s eta 0:00:01\n",
      "     ---------------------------------------  7.5/7.5 MB 2.8 MB/s eta 0:00:01\n",
      "     ---------------------------------------- 7.5/7.5 MB 2.8 MB/s eta 0:00:00\n",
      "  Installing build dependencies: started\n",
      "  Installing build dependencies: still running...\n",
      "  Installing build dependencies: finished with status 'done'\n",
      "  Getting requirements to build wheel: started\n",
      "  Getting requirements to build wheel: finished with status 'done'\n",
      "  Preparing metadata (pyproject.toml): started\n",
      "  Preparing metadata (pyproject.toml): finished with status 'error'\n"
     ]
    },
    {
     "name": "stderr",
     "output_type": "stream",
     "text": [
      "  error: subprocess-exited-with-error\n",
      "  \n",
      "  Preparing metadata (pyproject.toml) did not run successfully.\n",
      "  exit code: 1\n",
      "  \n",
      "  [62 lines of output]\n",
      "  <string>:17: DeprecationWarning: pkg_resources is deprecated as an API. See https://setuptools.pypa.io/en/latest/pkg_resources.html\n",
      "  Partial import of sklearn during the build process.\n",
      "  <string>:116: DeprecationWarning:\n",
      "  \n",
      "    `numpy.distutils` is deprecated since NumPy 1.23.0, as a result\n",
      "    of the deprecation of `distutils` itself. It will be removed for\n",
      "    Python >= 3.12. For older Python versions it will remain present.\n",
      "    It is recommended to use `setuptools < 60.0` for those Python versions.\n",
      "    For more details, see:\n",
      "      https://numpy.org/devdocs/reference/distutils_status_migration.html\n",
      "  \n",
      "  \n",
      "  INFO: No module named 'numpy.distutils._msvccompiler' in numpy.distutils; trying from distutils\n",
      "  Traceback (most recent call last):\n",
      "    File \"C:\\Users\\ghans\\AppData\\Local\\Programs\\Python\\Python311\\Lib\\site-packages\\pip\\_vendor\\pyproject_hooks\\_in_process\\_in_process.py\", line 353, in <module>\n",
      "      main()\n",
      "    File \"C:\\Users\\ghans\\AppData\\Local\\Programs\\Python\\Python311\\Lib\\site-packages\\pip\\_vendor\\pyproject_hooks\\_in_process\\_in_process.py\", line 335, in main\n",
      "      json_out['return_val'] = hook(**hook_input['kwargs'])\n",
      "                               ^^^^^^^^^^^^^^^^^^^^^^^^^^^^\n",
      "    File \"C:\\Users\\ghans\\AppData\\Local\\Programs\\Python\\Python311\\Lib\\site-packages\\pip\\_vendor\\pyproject_hooks\\_in_process\\_in_process.py\", line 149, in prepare_metadata_for_build_wheel\n",
      "      return hook(metadata_directory, config_settings)\n",
      "             ^^^^^^^^^^^^^^^^^^^^^^^^^^^^^^^^^^^^^^^^^\n",
      "    File \"C:\\Users\\ghans\\AppData\\Local\\Temp\\pip-build-env-gqti8wlq\\overlay\\Lib\\site-packages\\setuptools\\build_meta.py\", line 366, in prepare_metadata_for_build_wheel\n",
      "      self.run_setup()\n",
      "    File \"C:\\Users\\ghans\\AppData\\Local\\Temp\\pip-build-env-gqti8wlq\\overlay\\Lib\\site-packages\\setuptools\\build_meta.py\", line 487, in run_setup\n",
      "      super().run_setup(setup_script=setup_script)\n",
      "    File \"C:\\Users\\ghans\\AppData\\Local\\Temp\\pip-build-env-gqti8wlq\\overlay\\Lib\\site-packages\\setuptools\\build_meta.py\", line 311, in run_setup\n",
      "      exec(code, locals())\n",
      "    File \"<string>\", line 301, in <module>\n",
      "    File \"<string>\", line 297, in setup_package\n",
      "    File \"C:\\Users\\ghans\\AppData\\Local\\Temp\\pip-build-env-gqti8wlq\\overlay\\Lib\\site-packages\\numpy\\distutils\\core.py\", line 136, in setup\n",
      "      config = configuration()\n",
      "               ^^^^^^^^^^^^^^^\n",
      "    File \"<string>\", line 188, in configuration\n",
      "    File \"C:\\Users\\ghans\\AppData\\Local\\Temp\\pip-build-env-gqti8wlq\\overlay\\Lib\\site-packages\\numpy\\distutils\\misc_util.py\", line 1050, in add_subpackage\n",
      "      config_list = self.get_subpackage(subpackage_name, subpackage_path,\n",
      "                    ^^^^^^^^^^^^^^^^^^^^^^^^^^^^^^^^^^^^^^^^^^^^^^^^^^^^^\n",
      "    File \"C:\\Users\\ghans\\AppData\\Local\\Temp\\pip-build-env-gqti8wlq\\overlay\\Lib\\site-packages\\numpy\\distutils\\misc_util.py\", line 1016, in get_subpackage\n",
      "      config = self._get_configuration_from_setup_py(\n",
      "               ^^^^^^^^^^^^^^^^^^^^^^^^^^^^^^^^^^^^^^\n",
      "    File \"C:\\Users\\ghans\\AppData\\Local\\Temp\\pip-build-env-gqti8wlq\\overlay\\Lib\\site-packages\\numpy\\distutils\\misc_util.py\", line 958, in _get_configuration_from_setup_py\n",
      "      config = setup_module.configuration(*args)\n",
      "               ^^^^^^^^^^^^^^^^^^^^^^^^^^^^^^^^^\n",
      "    File \"C:\\Users\\ghans\\AppData\\Local\\Temp\\pip-install-t0obldsh\\scikit-learn_a21adbde0a424dc8b64a098fd70ca220\\sklearn\\setup.py\", line 83, in configuration\n",
      "      cythonize_extensions(top_path, config)\n",
      "    File \"C:\\Users\\ghans\\AppData\\Local\\Temp\\pip-install-t0obldsh\\scikit-learn_a21adbde0a424dc8b64a098fd70ca220\\sklearn\\_build_utils\\__init__.py\", line 45, in cythonize_extensions\n",
      "      basic_check_build()\n",
      "    File \"C:\\Users\\ghans\\AppData\\Local\\Temp\\pip-install-t0obldsh\\scikit-learn_a21adbde0a424dc8b64a098fd70ca220\\sklearn\\_build_utils\\pre_build_helpers.py\", line 106, in basic_check_build\n",
      "      compile_test_program(code)\n",
      "    File \"C:\\Users\\ghans\\AppData\\Local\\Temp\\pip-install-t0obldsh\\scikit-learn_a21adbde0a424dc8b64a098fd70ca220\\sklearn\\_build_utils\\pre_build_helpers.py\", line 66, in compile_test_program\n",
      "      ccompiler.compile(['test_program.c'], output_dir='objects',\n",
      "    File \"C:\\Users\\ghans\\AppData\\Local\\Temp\\pip-build-env-gqti8wlq\\overlay\\Lib\\site-packages\\setuptools\\_distutils\\_msvccompiler.py\", line 343, in compile\n",
      "      self.initialize()\n",
      "    File \"C:\\Users\\ghans\\AppData\\Local\\Temp\\pip-build-env-gqti8wlq\\overlay\\Lib\\site-packages\\setuptools\\_distutils\\_msvccompiler.py\", line 253, in initialize\n",
      "      vc_env = _get_vc_env(plat_spec)\n",
      "               ^^^^^^^^^^^^^^^^^^^^^^\n",
      "    File \"C:\\Users\\ghans\\AppData\\Local\\Temp\\pip-build-env-gqti8wlq\\overlay\\Lib\\site-packages\\setuptools\\msvc.py\", line 230, in msvc14_get_vc_env\n",
      "      return _msvc14_get_vc_env(plat_spec)\n",
      "             ^^^^^^^^^^^^^^^^^^^^^^^^^^^^^\n",
      "    File \"C:\\Users\\ghans\\AppData\\Local\\Temp\\pip-build-env-gqti8wlq\\overlay\\Lib\\site-packages\\setuptools\\msvc.py\", line 187, in _msvc14_get_vc_env\n",
      "      raise distutils.errors.DistutilsPlatformError(\"Unable to find vcvarsall.bat\")\n",
      "  distutils.errors.DistutilsPlatformError: Microsoft Visual C++ 14.0 or greater is required. Get it with \"Microsoft C++ Build Tools\": https://visualstudio.microsoft.com/visual-cpp-build-tools/\n",
      "  [end of output]\n",
      "  \n",
      "  note: This error originates from a subprocess, and is likely not a problem with pip.\n",
      "error: metadata-generation-failed\n",
      "\n",
      "Encountered error while generating package metadata.\n",
      "\n",
      "See above for output.\n",
      "\n",
      "note: This is an issue with the package mentioned above, not pip.\n",
      "hint: See above for details.\n"
     ]
    }
   ],
   "source": [
    "import numpy as np\n",
    "import matplotlib.pyplot as plt\n",
    "\n",
    "import pandas as pd\n",
    "import seaborn as sns\n",
    "\n",
    "%matplotlib inline\n",
    "!pip uninstall scikit-learn\n",
    "!pip install scikit-learn==1.2.0"
   ]
  },
  {
   "cell_type": "code",
   "execution_count": 26,
   "id": "452a8321",
   "metadata": {},
   "outputs": [
    {
     "ename": "ImportError",
     "evalue": "\n`load_boston` has been removed from scikit-learn since version 1.2.\n\nThe Boston housing prices dataset has an ethical problem: as\ninvestigated in [1], the authors of this dataset engineered a\nnon-invertible variable \"B\" assuming that racial self-segregation had a\npositive impact on house prices [2]. Furthermore the goal of the\nresearch that led to the creation of this dataset was to study the\nimpact of air quality but it did not give adequate demonstration of the\nvalidity of this assumption.\n\nThe scikit-learn maintainers therefore strongly discourage the use of\nthis dataset unless the purpose of the code is to study and educate\nabout ethical issues in data science and machine learning.\n\nIn this special case, you can fetch the dataset from the original\nsource::\n\n    import pandas as pd\n    import numpy as np\n\n    data_url = \"http://lib.stat.cmu.edu/datasets/boston\"\n    raw_df = pd.read_csv(data_url, sep=\"\\s+\", skiprows=22, header=None)\n    data = np.hstack([raw_df.values[::2, :], raw_df.values[1::2, :2]])\n    target = raw_df.values[1::2, 2]\n\nAlternative datasets include the California housing dataset and the\nAmes housing dataset. You can load the datasets as follows::\n\n    from sklearn.datasets import fetch_california_housing\n    housing = fetch_california_housing()\n\nfor the California housing dataset and::\n\n    from sklearn.datasets import fetch_openml\n    housing = fetch_openml(name=\"house_prices\", as_frame=True)\n\nfor the Ames housing dataset.\n\n[1] M Carlisle.\n\"Racist data destruction?\"\n<https://medium.com/@docintangible/racist-data-destruction-113e3eff54a8>\n\n[2] Harrison Jr, David, and Daniel L. Rubinfeld.\n\"Hedonic housing prices and the demand for clean air.\"\nJournal of environmental economics and management 5.1 (1978): 81-102.\n<https://www.researchgate.net/publication/4974606_Hedonic_housing_prices_and_the_demand_for_clean_air>\n",
     "output_type": "error",
     "traceback": [
      "\u001b[1;31m---------------------------------------------------------------------------\u001b[0m",
      "\u001b[1;31mImportError\u001b[0m                               Traceback (most recent call last)",
      "Cell \u001b[1;32mIn[26], line 1\u001b[0m\n\u001b[1;32m----> 1\u001b[0m \u001b[38;5;28;01mfrom\u001b[39;00m \u001b[38;5;21;01msklearn\u001b[39;00m\u001b[38;5;21;01m.\u001b[39;00m\u001b[38;5;21;01mdatasets\u001b[39;00m \u001b[38;5;28;01mimport\u001b[39;00m load_boston\n\u001b[0;32m      2\u001b[0m boston_dataset \u001b[38;5;241m=\u001b[39m load_boston()\n\u001b[0;32m      4\u001b[0m boston_dataset\u001b[38;5;241m.\u001b[39mkeys()\n",
      "File \u001b[1;32m~\\anaconda3\\Lib\\site-packages\\sklearn\\datasets\\__init__.py:157\u001b[0m, in \u001b[0;36m__getattr__\u001b[1;34m(name)\u001b[0m\n\u001b[0;32m    108\u001b[0m \u001b[38;5;28;01mif\u001b[39;00m name \u001b[38;5;241m==\u001b[39m \u001b[38;5;124m\"\u001b[39m\u001b[38;5;124mload_boston\u001b[39m\u001b[38;5;124m\"\u001b[39m:\n\u001b[0;32m    109\u001b[0m     msg \u001b[38;5;241m=\u001b[39m textwrap\u001b[38;5;241m.\u001b[39mdedent(\u001b[38;5;124m\"\"\"\u001b[39m\n\u001b[0;32m    110\u001b[0m \u001b[38;5;124m        `load_boston` has been removed from scikit-learn since version 1.2.\u001b[39m\n\u001b[0;32m    111\u001b[0m \n\u001b[1;32m   (...)\u001b[0m\n\u001b[0;32m    155\u001b[0m \u001b[38;5;124m        <https://www.researchgate.net/publication/4974606_Hedonic_housing_prices_and_the_demand_for_clean_air>\u001b[39m\n\u001b[0;32m    156\u001b[0m \u001b[38;5;124m        \u001b[39m\u001b[38;5;124m\"\"\"\u001b[39m)\n\u001b[1;32m--> 157\u001b[0m     \u001b[38;5;28;01mraise\u001b[39;00m \u001b[38;5;167;01mImportError\u001b[39;00m(msg)\n\u001b[0;32m    158\u001b[0m \u001b[38;5;28;01mtry\u001b[39;00m:\n\u001b[0;32m    159\u001b[0m     \u001b[38;5;28;01mreturn\u001b[39;00m \u001b[38;5;28mglobals\u001b[39m()[name]\n",
      "\u001b[1;31mImportError\u001b[0m: \n`load_boston` has been removed from scikit-learn since version 1.2.\n\nThe Boston housing prices dataset has an ethical problem: as\ninvestigated in [1], the authors of this dataset engineered a\nnon-invertible variable \"B\" assuming that racial self-segregation had a\npositive impact on house prices [2]. Furthermore the goal of the\nresearch that led to the creation of this dataset was to study the\nimpact of air quality but it did not give adequate demonstration of the\nvalidity of this assumption.\n\nThe scikit-learn maintainers therefore strongly discourage the use of\nthis dataset unless the purpose of the code is to study and educate\nabout ethical issues in data science and machine learning.\n\nIn this special case, you can fetch the dataset from the original\nsource::\n\n    import pandas as pd\n    import numpy as np\n\n    data_url = \"http://lib.stat.cmu.edu/datasets/boston\"\n    raw_df = pd.read_csv(data_url, sep=\"\\s+\", skiprows=22, header=None)\n    data = np.hstack([raw_df.values[::2, :], raw_df.values[1::2, :2]])\n    target = raw_df.values[1::2, 2]\n\nAlternative datasets include the California housing dataset and the\nAmes housing dataset. You can load the datasets as follows::\n\n    from sklearn.datasets import fetch_california_housing\n    housing = fetch_california_housing()\n\nfor the California housing dataset and::\n\n    from sklearn.datasets import fetch_openml\n    housing = fetch_openml(name=\"house_prices\", as_frame=True)\n\nfor the Ames housing dataset.\n\n[1] M Carlisle.\n\"Racist data destruction?\"\n<https://medium.com/@docintangible/racist-data-destruction-113e3eff54a8>\n\n[2] Harrison Jr, David, and Daniel L. Rubinfeld.\n\"Hedonic housing prices and the demand for clean air.\"\nJournal of environmental economics and management 5.1 (1978): 81-102.\n<https://www.researchgate.net/publication/4974606_Hedonic_housing_prices_and_the_demand_for_clean_air>\n"
     ]
    }
   ],
   "source": [
    "from sklearn.datasets import load_boston\n",
    "boston_dataset = load_boston()\n",
    "\n",
    "boston_dataset.keys()"
   ]
  },
  {
   "cell_type": "code",
   "execution_count": 17,
   "id": "fdac2b82",
   "metadata": {},
   "outputs": [
    {
     "ename": "NameError",
     "evalue": "name 'boston_dataset' is not defined",
     "output_type": "error",
     "traceback": [
      "\u001b[1;31m---------------------------------------------------------------------------\u001b[0m",
      "\u001b[1;31mNameError\u001b[0m                                 Traceback (most recent call last)",
      "Cell \u001b[1;32mIn[17], line 1\u001b[0m\n\u001b[1;32m----> 1\u001b[0m boston \u001b[38;5;241m=\u001b[39m pd\u001b[38;5;241m.\u001b[39mDataFrame(boston_dataset\u001b[38;5;241m.\u001b[39mdata, columns\u001b[38;5;241m=\u001b[39mboston_dataset\u001b[38;5;241m.\u001b[39mfeature_names)\n\u001b[0;32m      2\u001b[0m boston\u001b[38;5;241m.\u001b[39mhead()\n",
      "\u001b[1;31mNameError\u001b[0m: name 'boston_dataset' is not defined"
     ]
    }
   ],
   "source": [
    "boston = pd.DataFrame(boston_dataset.data, columns=boston_dataset.feature_names)\n",
    "boston.head()"
   ]
  },
  {
   "cell_type": "code",
   "execution_count": 18,
   "id": "2d805b5f",
   "metadata": {},
   "outputs": [
    {
     "ename": "NameError",
     "evalue": "name 'boston_dataset' is not defined",
     "output_type": "error",
     "traceback": [
      "\u001b[1;31m---------------------------------------------------------------------------\u001b[0m",
      "\u001b[1;31mNameError\u001b[0m                                 Traceback (most recent call last)",
      "Cell \u001b[1;32mIn[18], line 1\u001b[0m\n\u001b[1;32m----> 1\u001b[0m boston[\u001b[38;5;124m'\u001b[39m\u001b[38;5;124mMEDV\u001b[39m\u001b[38;5;124m'\u001b[39m] \u001b[38;5;241m=\u001b[39m boston_dataset\u001b[38;5;241m.\u001b[39mtarget\n",
      "\u001b[1;31mNameError\u001b[0m: name 'boston_dataset' is not defined"
     ]
    }
   ],
   "source": [
    "boston['MEDV'] = boston_dataset.target"
   ]
  },
  {
   "cell_type": "code",
   "execution_count": 5,
   "id": "c5e0c19d",
   "metadata": {},
   "outputs": [
    {
     "ename": "NameError",
     "evalue": "name 'boston' is not defined",
     "output_type": "error",
     "traceback": [
      "\u001b[1;31m---------------------------------------------------------------------------\u001b[0m",
      "\u001b[1;31mNameError\u001b[0m                                 Traceback (most recent call last)",
      "Cell \u001b[1;32mIn[5], line 1\u001b[0m\n\u001b[1;32m----> 1\u001b[0m boston\u001b[38;5;241m.\u001b[39misnull()\u001b[38;5;241m.\u001b[39msum()\n",
      "\u001b[1;31mNameError\u001b[0m: name 'boston' is not defined"
     ]
    }
   ],
   "source": [
    "boston.isnull().sum()"
   ]
  },
  {
   "cell_type": "code",
   "execution_count": 6,
   "id": "6a6d9222",
   "metadata": {},
   "outputs": [
    {
     "ename": "NameError",
     "evalue": "name 'boston' is not defined",
     "output_type": "error",
     "traceback": [
      "\u001b[1;31m---------------------------------------------------------------------------\u001b[0m",
      "\u001b[1;31mNameError\u001b[0m                                 Traceback (most recent call last)",
      "Cell \u001b[1;32mIn[6], line 3\u001b[0m\n\u001b[0;32m      1\u001b[0m sns\u001b[38;5;241m.\u001b[39mset(rc\u001b[38;5;241m=\u001b[39m{\u001b[38;5;124m'\u001b[39m\u001b[38;5;124mfigure.figsize\u001b[39m\u001b[38;5;124m'\u001b[39m:(\u001b[38;5;241m11.7\u001b[39m,\u001b[38;5;241m8.27\u001b[39m)})\n\u001b[1;32m----> 3\u001b[0m sns\u001b[38;5;241m.\u001b[39mdistplot(boston[\u001b[38;5;124m'\u001b[39m\u001b[38;5;124mMEDV\u001b[39m\u001b[38;5;124m'\u001b[39m], bins\u001b[38;5;241m=\u001b[39m\u001b[38;5;241m30\u001b[39m)\n\u001b[0;32m      4\u001b[0m plt\u001b[38;5;241m.\u001b[39mshow()\n",
      "\u001b[1;31mNameError\u001b[0m: name 'boston' is not defined"
     ]
    }
   ],
   "source": [
    "sns.set(rc={'figure.figsize':(11.7,8.27)})\n",
    "\n",
    "sns.distplot(boston['MEDV'], bins=30)\n",
    "plt.show()"
   ]
  },
  {
   "cell_type": "code",
   "execution_count": 7,
   "id": "23f5f095",
   "metadata": {},
   "outputs": [
    {
     "ename": "NameError",
     "evalue": "name 'boston' is not defined",
     "output_type": "error",
     "traceback": [
      "\u001b[1;31m---------------------------------------------------------------------------\u001b[0m",
      "\u001b[1;31mNameError\u001b[0m                                 Traceback (most recent call last)",
      "Cell \u001b[1;32mIn[7], line 1\u001b[0m\n\u001b[1;32m----> 1\u001b[0m correlation_matrix \u001b[38;5;241m=\u001b[39m boston\u001b[38;5;241m.\u001b[39mcorr()\u001b[38;5;241m.\u001b[39mround(\u001b[38;5;241m2\u001b[39m)\n",
      "\u001b[1;31mNameError\u001b[0m: name 'boston' is not defined"
     ]
    }
   ],
   "source": [
    "correlation_matrix = boston.corr().round(2)"
   ]
  },
  {
   "cell_type": "code",
   "execution_count": 8,
   "id": "aefc9524",
   "metadata": {},
   "outputs": [
    {
     "ename": "NameError",
     "evalue": "name 'correlation_matrix' is not defined",
     "output_type": "error",
     "traceback": [
      "\u001b[1;31m---------------------------------------------------------------------------\u001b[0m",
      "\u001b[1;31mNameError\u001b[0m                                 Traceback (most recent call last)",
      "Cell \u001b[1;32mIn[8], line 1\u001b[0m\n\u001b[1;32m----> 1\u001b[0m sns\u001b[38;5;241m.\u001b[39mheatmap(data \u001b[38;5;241m=\u001b[39m correlation_matrix, annot\u001b[38;5;241m=\u001b[39m\u001b[38;5;28;01mTrue\u001b[39;00m)\n",
      "\u001b[1;31mNameError\u001b[0m: name 'correlation_matrix' is not defined"
     ]
    }
   ],
   "source": [
    "sns.heatmap(data = correlation_matrix, annot=True)"
   ]
  },
  {
   "cell_type": "code",
   "execution_count": 9,
   "id": "edf165b9",
   "metadata": {},
   "outputs": [
    {
     "ename": "NameError",
     "evalue": "name 'boston' is not defined",
     "output_type": "error",
     "traceback": [
      "\u001b[1;31m---------------------------------------------------------------------------\u001b[0m",
      "\u001b[1;31mNameError\u001b[0m                                 Traceback (most recent call last)",
      "Cell \u001b[1;32mIn[9], line 4\u001b[0m\n\u001b[0;32m      1\u001b[0m plt\u001b[38;5;241m.\u001b[39mfigure(figsize\u001b[38;5;241m=\u001b[39m(\u001b[38;5;241m20\u001b[39m,\u001b[38;5;241m5\u001b[39m))\n\u001b[0;32m      3\u001b[0m features \u001b[38;5;241m=\u001b[39m [\u001b[38;5;124m\"\u001b[39m\u001b[38;5;124mLSTAT\u001b[39m\u001b[38;5;124m\"\u001b[39m, \u001b[38;5;124m'\u001b[39m\u001b[38;5;124mRM\u001b[39m\u001b[38;5;124m'\u001b[39m]\n\u001b[1;32m----> 4\u001b[0m target \u001b[38;5;241m=\u001b[39m boston[\u001b[38;5;124m'\u001b[39m\u001b[38;5;124mMEDV\u001b[39m\u001b[38;5;124m'\u001b[39m]\n\u001b[0;32m      6\u001b[0m \u001b[38;5;28;01mfor\u001b[39;00m i, col \u001b[38;5;129;01min\u001b[39;00m \u001b[38;5;28menumerate\u001b[39m(features):\n\u001b[0;32m      7\u001b[0m     plt\u001b[38;5;241m.\u001b[39msubplot(\u001b[38;5;241m1\u001b[39m,\u001b[38;5;28mlen\u001b[39m(features) , i\u001b[38;5;241m+\u001b[39m\u001b[38;5;241m1\u001b[39m)\n",
      "\u001b[1;31mNameError\u001b[0m: name 'boston' is not defined"
     ]
    },
    {
     "data": {
      "text/plain": [
       "<Figure size 2000x500 with 0 Axes>"
      ]
     },
     "metadata": {},
     "output_type": "display_data"
    }
   ],
   "source": [
    "plt.figure(figsize=(20,5))\n",
    "\n",
    "features = [\"LSTAT\", 'RM']\n",
    "target = boston['MEDV']\n",
    "\n",
    "for i, col in enumerate(features):\n",
    "    plt.subplot(1,len(features) , i+1)\n",
    "    x = boston[col]\n",
    "    y = target\n",
    "    plt.scatter(x,y,marker='o')\n",
    "    plt.title(col)\n",
    "    plt.xlabel(col)\n",
    "    plt.ylabel('MEDV')"
   ]
  },
  {
   "cell_type": "code",
   "execution_count": 10,
   "id": "94f7d498",
   "metadata": {},
   "outputs": [
    {
     "ename": "NameError",
     "evalue": "name 'boston' is not defined",
     "output_type": "error",
     "traceback": [
      "\u001b[1;31m---------------------------------------------------------------------------\u001b[0m",
      "\u001b[1;31mNameError\u001b[0m                                 Traceback (most recent call last)",
      "Cell \u001b[1;32mIn[10], line 1\u001b[0m\n\u001b[1;32m----> 1\u001b[0m X \u001b[38;5;241m=\u001b[39m pd\u001b[38;5;241m.\u001b[39mDataFrame(np\u001b[38;5;241m.\u001b[39mc_[boston[\u001b[38;5;124m'\u001b[39m\u001b[38;5;124mLSTAT\u001b[39m\u001b[38;5;124m'\u001b[39m],boston[\u001b[38;5;124m'\u001b[39m\u001b[38;5;124mRM\u001b[39m\u001b[38;5;124m'\u001b[39m]], columns \u001b[38;5;241m=\u001b[39m [\u001b[38;5;124m'\u001b[39m\u001b[38;5;124mLSTAT\u001b[39m\u001b[38;5;124m'\u001b[39m,\u001b[38;5;124m'\u001b[39m\u001b[38;5;124mRM\u001b[39m\u001b[38;5;124m'\u001b[39m])\n\u001b[0;32m      2\u001b[0m Y \u001b[38;5;241m=\u001b[39m boston[\u001b[38;5;124m'\u001b[39m\u001b[38;5;124mMEDV\u001b[39m\u001b[38;5;124m'\u001b[39m]\n",
      "\u001b[1;31mNameError\u001b[0m: name 'boston' is not defined"
     ]
    }
   ],
   "source": [
    "X = pd.DataFrame(np.c_[boston['LSTAT'],boston['RM']], columns = ['LSTAT','RM'])\n",
    "Y = boston['MEDV']"
   ]
  },
  {
   "cell_type": "code",
   "execution_count": 11,
   "id": "f00a7ce9",
   "metadata": {},
   "outputs": [
    {
     "ename": "NameError",
     "evalue": "name 'X' is not defined",
     "output_type": "error",
     "traceback": [
      "\u001b[1;31m---------------------------------------------------------------------------\u001b[0m",
      "\u001b[1;31mNameError\u001b[0m                                 Traceback (most recent call last)",
      "Cell \u001b[1;32mIn[11], line 3\u001b[0m\n\u001b[0;32m      1\u001b[0m \u001b[38;5;28;01mfrom\u001b[39;00m \u001b[38;5;21;01msklearn\u001b[39;00m\u001b[38;5;21;01m.\u001b[39;00m\u001b[38;5;21;01mmodel_selection\u001b[39;00m \u001b[38;5;28;01mimport\u001b[39;00m train_test_split\n\u001b[1;32m----> 3\u001b[0m X_train, X_test, Y_train, Y_test \u001b[38;5;241m=\u001b[39m train_test_split(X,Y,test_size \u001b[38;5;241m=\u001b[39m \u001b[38;5;241m0.2\u001b[39m,random_state\u001b[38;5;241m=\u001b[39m\u001b[38;5;241m20\u001b[39m)\n\u001b[0;32m      4\u001b[0m \u001b[38;5;28mprint\u001b[39m(X_train\u001b[38;5;241m.\u001b[39mshape)\n\u001b[0;32m      5\u001b[0m \u001b[38;5;28mprint\u001b[39m(X_test\u001b[38;5;241m.\u001b[39mshape)\n",
      "\u001b[1;31mNameError\u001b[0m: name 'X' is not defined"
     ]
    }
   ],
   "source": [
    "from sklearn.model_selection import train_test_split\n",
    "\n",
    "X_train, X_test, Y_train, Y_test = train_test_split(X,Y,test_size = 0.2,random_state=20)\n",
    "print(X_train.shape)\n",
    "print(X_test.shape)\n",
    "print(Y_train.shape)\n",
    "print(Y_test.shape)"
   ]
  },
  {
   "cell_type": "code",
   "execution_count": null,
   "id": "2591b6f2",
   "metadata": {},
   "outputs": [],
   "source": [
    "#Train the model using sklearnLinearRegression\n",
    "\n",
    "from sklearn.linear_model import LinearRegression\n",
    "from sklearn.metrics import mean_squared_error,r2_score\n",
    "\n",
    "lin_model = LinearRegression()\n",
    "lin_model.fit(X_train,Y_train)"
   ]
  },
  {
   "cell_type": "code",
   "execution_count": 12,
   "id": "4d14cc76",
   "metadata": {},
   "outputs": [
    {
     "ename": "NameError",
     "evalue": "name 'lin_model' is not defined",
     "output_type": "error",
     "traceback": [
      "\u001b[1;31m---------------------------------------------------------------------------\u001b[0m",
      "\u001b[1;31mNameError\u001b[0m                                 Traceback (most recent call last)",
      "Cell \u001b[1;32mIn[12], line 1\u001b[0m\n\u001b[1;32m----> 1\u001b[0m y_train_predict \u001b[38;5;241m=\u001b[39m lin_model\u001b[38;5;241m.\u001b[39mpredict(X_train)\n\u001b[0;32m      2\u001b[0m rmse \u001b[38;5;241m=\u001b[39m (np\u001b[38;5;241m.\u001b[39msqrt(mean_squared_error(Y_train,y_train_predict)))\n\u001b[0;32m      3\u001b[0m r2 \u001b[38;5;241m=\u001b[39m r2_score(Y_train,y_train_predict)\n",
      "\u001b[1;31mNameError\u001b[0m: name 'lin_model' is not defined"
     ]
    }
   ],
   "source": [
    "y_train_predict = lin_model.predict(X_train)\n",
    "rmse = (np.sqrt(mean_squared_error(Y_train,y_train_predict)))\n",
    "r2 = r2_score(Y_train,y_train_predict)\n",
    "\n",
    "print(\"The model performance for testing set\")\n",
    "print(\"---------------------------------------\")\n",
    "print('RMSE is {}'.format(rmse))\n",
    "print('R2 score is {}'.format(r2))\n",
    "\n",
    "\n",
    "y_test_predict = lin_model.predict(X_test)\n",
    "\n",
    "rmse = (np.sqrt(mean_squared_error(Y_test,y_test_predict)))\n",
    "\n",
    "r2 = r2_score(Y_test, y_test_predict)\n",
    "\n",
    "print(\"The model performance for testing set\")\n",
    "print(\"---------------------------------------\")\n",
    "print('RMSE is {}'.format(rmse))\n",
    "print('R2 score is {}'.format(r2))\n"
   ]
  },
  {
   "cell_type": "code",
   "execution_count": 13,
   "id": "6a881857",
   "metadata": {},
   "outputs": [
    {
     "ename": "NameError",
     "evalue": "name 'Y_test' is not defined",
     "output_type": "error",
     "traceback": [
      "\u001b[1;31m---------------------------------------------------------------------------\u001b[0m",
      "\u001b[1;31mNameError\u001b[0m                                 Traceback (most recent call last)",
      "Cell \u001b[1;32mIn[13], line 1\u001b[0m\n\u001b[1;32m----> 1\u001b[0m plt\u001b[38;5;241m.\u001b[39mscatter(Y_test,y_test_predict)\n\u001b[0;32m      2\u001b[0m plt\u001b[38;5;241m.\u001b[39mshow()\n",
      "\u001b[1;31mNameError\u001b[0m: name 'Y_test' is not defined"
     ]
    }
   ],
   "source": [
    "plt.scatter(Y_test,y_test_predict)\n",
    "plt.show()"
   ]
  },
  {
   "cell_type": "code",
   "execution_count": null,
   "id": "e2d3fe0b",
   "metadata": {},
   "outputs": [],
   "source": []
  },
  {
   "cell_type": "code",
   "execution_count": null,
   "id": "885b5dc3",
   "metadata": {},
   "outputs": [],
   "source": []
  },
  {
   "cell_type": "code",
   "execution_count": null,
   "id": "24a59ea5",
   "metadata": {},
   "outputs": [],
   "source": []
  },
  {
   "cell_type": "code",
   "execution_count": null,
   "id": "f96035c1",
   "metadata": {},
   "outputs": [],
   "source": []
  },
  {
   "cell_type": "code",
   "execution_count": null,
   "id": "297f1abc",
   "metadata": {},
   "outputs": [],
   "source": []
  },
  {
   "cell_type": "code",
   "execution_count": null,
   "id": "a383eacb",
   "metadata": {},
   "outputs": [],
   "source": []
  },
  {
   "cell_type": "code",
   "execution_count": null,
   "id": "4d6fab9c",
   "metadata": {},
   "outputs": [],
   "source": []
  },
  {
   "cell_type": "code",
   "execution_count": null,
   "id": "e9cccb34",
   "metadata": {},
   "outputs": [],
   "source": []
  }
 ],
 "metadata": {
  "kernelspec": {
   "display_name": "Python 3 (ipykernel)",
   "language": "python",
   "name": "python3"
  },
  "language_info": {
   "codemirror_mode": {
    "name": "ipython",
    "version": 3
   },
   "file_extension": ".py",
   "mimetype": "text/x-python",
   "name": "python",
   "nbconvert_exporter": "python",
   "pygments_lexer": "ipython3",
   "version": "3.11.5"
  }
 },
 "nbformat": 4,
 "nbformat_minor": 5
}
